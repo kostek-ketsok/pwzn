{
 "metadata": {
  "name": "",
  "signature": "sha256:dd7f091f9c71c594094c9cc5a8a2c51dae7e85be92aacf99049c277046548611"
 },
 "nbformat": 3,
 "nbformat_minor": 0,
 "worksheets": [
  {
   "cells": [
    {
     "cell_type": "code",
     "collapsed": false,
     "input": [
      "%matplotlib inline\n",
      "import pylab"
     ],
     "language": "python",
     "metadata": {},
     "outputs": [],
     "prompt_number": 1
    },
    {
     "cell_type": "code",
     "collapsed": false,
     "input": [
      "import numpy as np\n",
      "from scipy.optimize import curve_fit\n",
      "from matplotlib import pylab\n",
      "\n",
      "m2 = np.memmap(\"data.bin\", dtype=\"float\", shape=(1000, 10000))\n",
      "def fun(x, a, b, c, d, e):\n",
      "    return a*np.exp(-(x-b)**2/(2*c**2))+d*x+e\n",
      "\n",
      "def funGaus(x, a, b, c):\n",
      "    return a*np.exp(-(x-b)**2/(2*c**2))\n",
      "\n",
      "def funTlo(x, d, e):\n",
      "    return d*x+e\n",
      "\n",
      "x = np.linspace(-40, 40, 10000)\n",
      "y = m2[1]\n",
      "popt, pcov = curve_fit(fun, x, y)\n",
      "yFIT = funGaus(x, popt[0], popt[1], popt[2] )\n",
      "yFITlo = funTlo(x, popt[3], popt[4])\n",
      "pylab.plot(x, y)\n",
      "pylab.plot(x, yFIT)\n",
      "pylab.plot(x, yFITlo)\n",
      "#pylab.savefig('BOOM.png')"
     ],
     "language": "python",
     "metadata": {},
     "outputs": [
      {
       "metadata": {},
       "output_type": "pyout",
       "prompt_number": 2,
       "text": [
        "[<matplotlib.lines.Line2D at 0x7fde2d8b9630>]"
       ]
      },
      {
       "metadata": {},
       "output_type": "display_data",
       "png": "[encoded data removed]",
       "text": [
        "<matplotlib.figure.Figure at 0x7fde3dd542b0>"
       ]
      }
     ],
     "prompt_number": 2
    },
    {
     "cell_type": "code",
     "collapsed": false,
     "input": [
      "from IPython.parallel import Client\n",
      "rc = Client(profile='default')\n",
      "dview = rc.direct_view()\n",
      "\n",
      "dview.scatter('m2', m2)\n",
      "res = dview.pull('m2')\n",
      "len(res)\n",
      "dview.scatter('y', y)\n",
      "dview.push({\"x\": x})"
     ],
     "language": "python",
     "metadata": {},
     "outputs": [
      {
       "metadata": {},
       "output_type": "pyout",
       "prompt_number": 3,
       "text": [
        "<AsyncResult: _push>"
       ]
      }
     ],
     "prompt_number": 3
    },
    {
     "cell_type": "code",
     "collapsed": false,
     "input": [
      "%%px\n",
      "import numpy as np\n",
      "from scipy.optimize import curve_fit\n",
      "from matplotlib import pylab\n",
      "\n",
      "def fun(x, a, b, c, d, e):\n",
      "    return a*np.exp(-(x-b)**2/(2*c**2))+d*x+e\n",
      "y1=m2[1]\n",
      "popt, pcov = curve_fit(fun, x, y1)"
     ],
     "language": "python",
     "metadata": {},
     "outputs": [],
     "prompt_number": 4
    },
    {
     "cell_type": "code",
     "collapsed": false,
     "input": [
      "parametry = dview.pull('popt', block=True)\n",
      "print(parametry[0][0])\n",
      "\n",
      "yFIT2 = funGaus(x, parametry[0][0], parametry[0][1], parametry[0][2] )\n",
      "yFITlo2 = funTlo(x, parametry[0][3], parametry[0][4])\n",
      "pylab.plot(x, y)\n",
      "pylab.plot(x, yFIT2)\n",
      "pylab.plot(x, yFITlo2)\n"
     ],
     "language": "python",
     "metadata": {},
     "outputs": [
      {
       "output_type": "stream",
       "stream": "stdout",
       "text": [
        "8.09132931556\n"
       ]
      },
      {
       "metadata": {},
       "output_type": "pyout",
       "prompt_number": 5,
       "text": [
        "[<matplotlib.lines.Line2D at 0x7fde2738aa20>]"
       ]
      },
      {
       "metadata": {},
       "output_type": "display_data",
       "png": "[encoded data removed]",
       "text": [
        "<matplotlib.figure.Figure at 0x7fde2d809908>"
       ]
      }
     ],
     "prompt_number": 5
    }
   ],
   "metadata": {}
  }
 ]
}