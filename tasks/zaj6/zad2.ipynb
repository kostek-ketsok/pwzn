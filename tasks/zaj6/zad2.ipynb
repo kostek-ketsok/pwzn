{
 "metadata": {
  "name": "",
  "signature": "sha256:bec1095a39c26b9b22dbfea9b35f6c20899975414af69f9a4d35b6df178eb59c"
 },
 "nbformat": 3,
 "nbformat_minor": 0,
 "worksheets": [
  {
   "cells": [
    {
     "cell_type": "code",
     "collapsed": false,
     "input": [
      "import pandas as pd\n",
      "%matplotlib inline"
     ],
     "language": "python",
     "metadata": {},
     "outputs": [],
     "prompt_number": 23
    },
    {
     "cell_type": "heading",
     "level": 1,
     "metadata": {},
     "source": [
      "Wprowadzenie\n"
     ]
    },
    {
     "cell_type": "markdown",
     "metadata": {},
     "source": [
      "Dane s\u0105\u00a0zasadniczo te same co ostatnim razem, ale pochodz\u0105 z innego \u017ar\u00f3d\u0142a. Maj\u0105\u00a0te\u017c\u00a0troch\u0119 inny format. \n",
      "\n",
      "Zasadnicze zadanie polega na zebraniu ca\u0142ych danych z pliku XLS (oba arkusze!), a nast\u0119pnie sformatowaniu ich do jednolitej postaci. Nast\u0119pnie nale\u017cy te wyniki po\u0142\u0105czy\u0107 z wynikami z poprzedniego zadania. \n",
      "\n",
      "Dane s\u0105 w pliku: \"data-cl.xls\".\n",
      "\n",
      "Za\u0142aduj dane do ramki pandas z jednego arkusza:"
     ]
    },
    {
     "cell_type": "code",
     "collapsed": false,
     "input": [
      "beryl = pd.read_excel('data-cl.xls', 'Sheet1', index_col=None, na_values=['NA'])"
     ],
     "language": "python",
     "metadata": {},
     "outputs": [
      {
       "ename": "ImportError",
       "evalue": "No module named 'xlrd'",
       "output_type": "pyerr",
       "traceback": [
        "\u001b[1;31m---------------------------------------------------------------------------\u001b[0m\n\u001b[1;31mImportError\u001b[0m                               Traceback (most recent call last)",
        "\u001b[1;32m<ipython-input-25-3f8f8db03913>\u001b[0m in \u001b[0;36m<module>\u001b[1;34m()\u001b[0m\n\u001b[1;32m----> 1\u001b[1;33m \u001b[0mberyl\u001b[0m \u001b[1;33m=\u001b[0m \u001b[0mpd\u001b[0m\u001b[1;33m.\u001b[0m\u001b[0mread_excel\u001b[0m\u001b[1;33m(\u001b[0m\u001b[1;34m'data-cl.xls'\u001b[0m\u001b[1;33m,\u001b[0m \u001b[1;34m'Sheet1'\u001b[0m\u001b[1;33m,\u001b[0m \u001b[0mindex_col\u001b[0m\u001b[1;33m=\u001b[0m\u001b[1;32mNone\u001b[0m\u001b[1;33m,\u001b[0m \u001b[0mna_values\u001b[0m\u001b[1;33m=\u001b[0m\u001b[1;33m[\u001b[0m\u001b[1;34m'NA'\u001b[0m\u001b[1;33m]\u001b[0m\u001b[1;33m)\u001b[0m\u001b[1;33m\u001b[0m\u001b[0m\n\u001b[0m",
        "\u001b[1;32m/home/kostek/.pwzn-python3.4.2/lib/python3.4/site-packages/pandas/io/excel.py\u001b[0m in \u001b[0;36mread_excel\u001b[1;34m(io, sheetname, **kwds)\u001b[0m\n\u001b[0;32m    130\u001b[0m     \u001b[0mengine\u001b[0m \u001b[1;33m=\u001b[0m \u001b[0mkwds\u001b[0m\u001b[1;33m.\u001b[0m\u001b[0mpop\u001b[0m\u001b[1;33m(\u001b[0m\u001b[1;34m'engine'\u001b[0m\u001b[1;33m,\u001b[0m \u001b[1;32mNone\u001b[0m\u001b[1;33m)\u001b[0m\u001b[1;33m\u001b[0m\u001b[0m\n\u001b[0;32m    131\u001b[0m \u001b[1;33m\u001b[0m\u001b[0m\n\u001b[1;32m--> 132\u001b[1;33m     \u001b[1;32mreturn\u001b[0m \u001b[0mExcelFile\u001b[0m\u001b[1;33m(\u001b[0m\u001b[0mio\u001b[0m\u001b[1;33m,\u001b[0m \u001b[0mengine\u001b[0m\u001b[1;33m=\u001b[0m\u001b[0mengine\u001b[0m\u001b[1;33m)\u001b[0m\u001b[1;33m.\u001b[0m\u001b[0mparse\u001b[0m\u001b[1;33m(\u001b[0m\u001b[0msheetname\u001b[0m\u001b[1;33m=\u001b[0m\u001b[0msheetname\u001b[0m\u001b[1;33m,\u001b[0m \u001b[1;33m**\u001b[0m\u001b[0mkwds\u001b[0m\u001b[1;33m)\u001b[0m\u001b[1;33m\u001b[0m\u001b[0m\n\u001b[0m\u001b[0;32m    133\u001b[0m \u001b[1;33m\u001b[0m\u001b[0m\n\u001b[0;32m    134\u001b[0m \u001b[1;33m\u001b[0m\u001b[0m\n",
        "\u001b[1;32m/home/kostek/.pwzn-python3.4.2/lib/python3.4/site-packages/pandas/io/excel.py\u001b[0m in \u001b[0;36m__init__\u001b[1;34m(self, io, **kwds)\u001b[0m\n\u001b[0;32m    148\u001b[0m     \u001b[1;32mdef\u001b[0m \u001b[0m__init__\u001b[0m\u001b[1;33m(\u001b[0m\u001b[0mself\u001b[0m\u001b[1;33m,\u001b[0m \u001b[0mio\u001b[0m\u001b[1;33m,\u001b[0m \u001b[1;33m**\u001b[0m\u001b[0mkwds\u001b[0m\u001b[1;33m)\u001b[0m\u001b[1;33m:\u001b[0m\u001b[1;33m\u001b[0m\u001b[0m\n\u001b[0;32m    149\u001b[0m \u001b[1;33m\u001b[0m\u001b[0m\n\u001b[1;32m--> 150\u001b[1;33m         \u001b[1;32mimport\u001b[0m \u001b[0mxlrd\u001b[0m  \u001b[1;31m# throw an ImportError if we need to\u001b[0m\u001b[1;33m\u001b[0m\u001b[0m\n\u001b[0m\u001b[0;32m    151\u001b[0m \u001b[1;33m\u001b[0m\u001b[0m\n\u001b[0;32m    152\u001b[0m         \u001b[0mver\u001b[0m \u001b[1;33m=\u001b[0m \u001b[0mtuple\u001b[0m\u001b[1;33m(\u001b[0m\u001b[0mmap\u001b[0m\u001b[1;33m(\u001b[0m\u001b[0mint\u001b[0m\u001b[1;33m,\u001b[0m \u001b[0mxlrd\u001b[0m\u001b[1;33m.\u001b[0m\u001b[0m__VERSION__\u001b[0m\u001b[1;33m.\u001b[0m\u001b[0msplit\u001b[0m\u001b[1;33m(\u001b[0m\u001b[1;34m\".\"\u001b[0m\u001b[1;33m)\u001b[0m\u001b[1;33m[\u001b[0m\u001b[1;33m:\u001b[0m\u001b[1;36m2\u001b[0m\u001b[1;33m]\u001b[0m\u001b[1;33m)\u001b[0m\u001b[1;33m)\u001b[0m\u001b[1;33m\u001b[0m\u001b[0m\n",
        "\u001b[1;31mImportError\u001b[0m: No module named 'xlrd'"
       ]
      }
     ],
     "prompt_number": 25
    },
    {
     "cell_type": "markdown",
     "metadata": {},
     "source": [
      "Jak zauwa\u017cy\u0142e\u015b/a\u015b\u00a0dane dane maj\u0105\u00a0dziwn\u0105 struktur\u0119, W wierszach mamy pomiar w kolejnych tygodniach dla poszczeg\u00f3lnych stacji i lat. \n",
      "\n",
      "Na razie celem jest przekszta\u0142cenie tych danyh na tabelk\u0119 o strukturze zawieraj\u0105cej kolumny: Data, Rodzaj Radionuklidu, Stacja, Warto\u015b\u0107. \n",
      "\n",
      "Kolejno\u015b\u0107 przekszta\u0142ce\u0144\u00a0jest taka (mo\u017ce wpadniecie na lepsz\u0105): \n",
      "\n",
      "* Na pocz\u0105tek porz\u0105dek w danych. Nale\u017cy usun\u0105\u0107\u00a0puste rz\u0119dy na g\u00f3rze, wyrzuci\u0107\u00a0kolumn\u0119 w kt\u00f3rej jest tylko 7Be, nada\u0107 kolumnie z rokiem nazw\u0119\u00a0Rok, oraz kolumnie ze stacj\u0105 nazw\u0119\u00a0Stacja. \n",
      "* Za pomoc\u0105\u00a0funkcji pd.melt(...) dokona\u0107\u00a0unpivotowania danych \n",
      "* Z Roku i tygodnia wyznaczy\u0107 dat\u0119\u00a0(jak w ostatnim \u0107wiczeniu)."
     ]
    },
    {
     "cell_type": "code",
     "collapsed": false,
     "input": [
      "from datetime import date, timedelta\n",
      "def week_start_date(year, week, dow=0):    \n",
      "    \"\"\"\n",
      "    :param int year: Numer roku\n",
      "    :param int week: Numer tygodnia w roku \n",
      "    :param int dow: Funkcja ta zwraca dat\u0119, zwr\u00f3ci dat\u0119 dnia o indeksie dow, zero oznacza poniedzia\u0142ek, jeden wtorek itp. \n",
      "    \"\"\"\n",
      "    # http://stackoverflow.com/a/1287862/7918\n",
      "    d = date(year, 1, 1)    \n",
      "    delta_days = d.isoweekday() - 1\n",
      "    delta_weeks = week\n",
      "    if year == d.isocalendar()[0]:\n",
      "        delta_weeks -= 1\n",
      "    delta = timedelta(days=-delta_days+dow, weeks=delta_weeks)\n",
      "    return d + delta"
     ],
     "language": "python",
     "metadata": {},
     "outputs": [],
     "prompt_number": 10
    },
    {
     "cell_type": "code",
     "collapsed": false,
     "input": [],
     "language": "python",
     "metadata": {},
     "outputs": [],
     "prompt_number": 15
    },
    {
     "cell_type": "heading",
     "level": 3,
     "metadata": {},
     "source": [
      "Pobranie danych z drugiego skoroszytu"
     ]
    },
    {
     "cell_type": "markdown",
     "metadata": {},
     "source": [
      "Tak samo pobierz dane z drugiego skoroszytu (zawiera on inny radionuklid)"
     ]
    },
    {
     "cell_type": "heading",
     "level": 3,
     "metadata": {},
     "source": [
      "Doklejenie wynik\u00f3w "
     ]
    },
    {
     "cell_type": "markdown",
     "metadata": {},
     "source": [
      "Pobierz wyniki z zadania 1 i sformatuj je do takiej samej postaci (powiedzmy \u017ce pochodz\u0105 one ze stacji o nazwie: \"Stacja Hor\"), nast\u0119pnie po\u0142\u0105cz ramki razem "
     ]
    },
    {
     "cell_type": "code",
     "collapsed": false,
     "input": [],
     "language": "python",
     "metadata": {},
     "outputs": [],
     "prompt_number": 14
    },
    {
     "cell_type": "heading",
     "level": 3,
     "metadata": {},
     "source": [
      "Pivoting pe\u0142nych danych"
     ]
    },
    {
     "cell_type": "markdown",
     "metadata": {},
     "source": [
      "Teraz skonstruuj tabelk\u0119\u00a0zawieraj\u0105c\u0105 takie kolumny: \n",
      "\n",
      "* Data\n",
      "* Dla ka\u017cdej kombinacji Stacji i parametru kolumn\u0119 z poziomem zanieczyszczenia"
     ]
    },
    {
     "cell_type": "code",
     "collapsed": false,
     "input": [],
     "language": "python",
     "metadata": {},
     "outputs": []
    },
    {
     "cell_type": "heading",
     "level": 3,
     "metadata": {},
     "source": [
      "Wyniki"
     ]
    },
    {
     "cell_type": "markdown",
     "metadata": {},
     "source": [
      "Wy\u015bwietl wyniki w \u0142adnym wykresie :)"
     ]
    },
    {
     "cell_type": "code",
     "collapsed": false,
     "input": [],
     "language": "python",
     "metadata": {},
     "outputs": []
    }
   ],
   "metadata": {}
  }
 ]
}